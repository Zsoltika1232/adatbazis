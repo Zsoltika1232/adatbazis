{
    "metadata": {
        "kernelspec": {
            "name": "SQL",
            "display_name": "SQL",
            "language": "sql"
        },
        "language_info": {
            "name": "sql",
            "version": ""
        }
    },
    "nbformat_minor": 2,
    "nbformat": 4,
    "cells": [
        {
            "cell_type": "code",
            "source": [
                "select ROGZITETTE,COUNT(SZALLAS_NEV) as \"Címek száma\" from Szallashely group by ROLLUP (ROGZITETTE);"
            ],
            "metadata": {
                "azdata_cell_guid": "4c5a16bb-e265-4fb0-ac4f-36ad49346ed1",
                "language": "sql",
                "tags": [
                    "hide_input"
                ]
            },
            "outputs": [
                {
                    "output_type": "display_data",
                    "data": {
                        "text/html": "(4 rows affected)"
                    },
                    "metadata": {}
                },
                {
                    "output_type": "display_data",
                    "data": {
                        "text/html": "Total execution time: 00:00:00.039"
                    },
                    "metadata": {}
                },
                {
                    "output_type": "execute_result",
                    "metadata": {},
                    "execution_count": 3,
                    "data": {
                        "application/vnd.dataresource+json": {
                            "schema": {
                                "fields": [
                                    {
                                        "name": "ROGZITETTE"
                                    },
                                    {
                                        "name": "Címek száma"
                                    }
                                ]
                            },
                            "data": [
                                {
                                    "ROGZITETTE": "Béla",
                                    "Címek száma": "12"
                                },
                                {
                                    "ROGZITETTE": "Mari",
                                    "Címek száma": "3"
                                },
                                {
                                    "ROGZITETTE": "Sára",
                                    "Címek száma": "6"
                                },
                                {
                                    "ROGZITETTE": "NULL",
                                    "Címek száma": "21"
                                }
                            ]
                        },
                        "text/html": [
                            "<table>",
                            "<tr><th>ROGZITETTE</th><th>Címek száma</th></tr>",
                            "<tr><td>Béla</td><td>12</td></tr>",
                            "<tr><td>Mari</td><td>3</td></tr>",
                            "<tr><td>Sára</td><td>6</td></tr>",
                            "<tr><td>NULL</td><td>21</td></tr>",
                            "</table>"
                        ]
                    }
                }
            ],
            "execution_count": 3
        },
        {
            "cell_type": "code",
            "source": [
                "select TIPUS,COUNT(SZALLAS_NEV) as \"Címek száma\" from Szallashely group by ROLLUP (TIPUS);"
            ],
            "metadata": {
                "azdata_cell_guid": "cc0110dd-fb19-4273-817c-6b78187b6da9",
                "language": "sql"
            },
            "outputs": [
                {
                    "output_type": "display_data",
                    "data": {
                        "text/html": "(6 rows affected)"
                    },
                    "metadata": {}
                },
                {
                    "output_type": "display_data",
                    "data": {
                        "text/html": "Total execution time: 00:00:00.044"
                    },
                    "metadata": {}
                },
                {
                    "output_type": "execute_result",
                    "metadata": {},
                    "execution_count": 4,
                    "data": {
                        "application/vnd.dataresource+json": {
                            "schema": {
                                "fields": [
                                    {
                                        "name": "TIPUS"
                                    },
                                    {
                                        "name": "Címek száma"
                                    }
                                ]
                            },
                            "data": [
                                {
                                    "TIPUS": "Apartman",
                                    "Címek száma": "3"
                                },
                                {
                                    "TIPUS": "Diákszálló",
                                    "Címek száma": "1"
                                },
                                {
                                    "TIPUS": "Hotel",
                                    "Címek száma": "6"
                                },
                                {
                                    "TIPUS": "panzió",
                                    "Címek száma": "5"
                                },
                                {
                                    "TIPUS": "vendégház",
                                    "Címek száma": "6"
                                },
                                {
                                    "TIPUS": "NULL",
                                    "Címek száma": "21"
                                }
                            ]
                        },
                        "text/html": [
                            "<table>",
                            "<tr><th>TIPUS</th><th>Címek száma</th></tr>",
                            "<tr><td>Apartman</td><td>3</td></tr>",
                            "<tr><td>Diákszálló</td><td>1</td></tr>",
                            "<tr><td>Hotel</td><td>6</td></tr>",
                            "<tr><td>panzió</td><td>5</td></tr>",
                            "<tr><td>vendégház</td><td>6</td></tr>",
                            "<tr><td>NULL</td><td>21</td></tr>",
                            "</table>"
                        ]
                    }
                }
            ],
            "execution_count": 4
        }
    ]
}